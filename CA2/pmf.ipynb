{
 "cells": [
  {
   "cell_type": "markdown",
   "metadata": {},
   "source": [
    "# PMF, CDF, Joint Distribution\n",
    "### CA2 @ EPS Course\n",
    "\n",
    "#### Instructors: Dr. Tavassolipour, Dr. Vahabie\n",
    "\n",
    "---\n",
    "\n",
    "### Instructions:\n",
    "-  Replace the placeholders (between <font color=\"green\">`## TODO ##`</font> and <font color=\"green\">`## TODO ##`</font>) with the appropriate details.\n",
    "- Ensure you run each cell after you've entered your solution.\n",
    "\n",
    "---\n",
    "\n",
    "*Full Name:* ...\n",
    "\n",
    "*SID:* ...\n",
    "\n",
    "The objective of this notebook is to understand the concepts of PMF and CDF and joint distribution."
   ]
  },
  {
   "cell_type": "code",
   "execution_count": null,
   "metadata": {},
   "outputs": [],
   "source": [
    "import simpy\n",
    "import numpy as np\n",
    "import matplotlib.pyplot as plt\n",
    "import seaborn as sns"
   ]
  },
  {
   "cell_type": "markdown",
   "metadata": {},
   "source": [
    "## Parameters"
   ]
  },
  {
   "cell_type": "code",
   "execution_count": 6,
   "metadata": {},
   "outputs": [],
   "source": [
    "num_counters = 1\n",
    "arrival_rate = 5  # customers per minute\n",
    "service_rate = 6  # customers per minute\n",
    "simulation_time = 10000  # minutes"
   ]
  },
  {
   "cell_type": "markdown",
   "metadata": {},
   "source": [
    "## Simulation"
   ]
  },
  {
   "cell_type": "code",
   "execution_count": 7,
   "metadata": {},
   "outputs": [],
   "source": [
    "def simulate_queue_system():\n",
    "    \"\"\"\n",
    "    Simulates a queue system with customers arriving at service counters, waiting for service, and being served.\n",
    "\n",
    "    This function defines the customer behavior and the setup of the simulation environment. It initializes the simulation environment, sets up the service counters, and continuously generates customer arrivals based on specified arrival and service rates. The function runs the simulation until the specified simulation time and returns the recorded wait times, arrival times, and service times of the customers.\n",
    "\n",
    "    Returns:\n",
    "        tuple: A tuple containing three lists - wait_times, arrival_times, and service_times, which record the respective times for each customer in the simulation.\n",
    "    \"\"\"\n",
    "\n",
    "    def customer(\n",
    "        env: simpy.Environment,\n",
    "        name: str,\n",
    "        counter: simpy.Resource,\n",
    "        service_time: float,\n",
    "        wait_times: list,\n",
    "        arrival_times: list,\n",
    "        service_times: list,\n",
    "    ):\n",
    "        \"\"\"\n",
    "        Simulates a customer arriving at a service counter, waiting for service, and then being served.\n",
    "\n",
    "        Args:\n",
    "            env (simpy.Environment): The simulation environment.\n",
    "            name (str): The name of the customer.\n",
    "            counter (simpy.Resource): The service counter resource.\n",
    "            service_time (float): The time it takes to serve the customer.\n",
    "            wait_times (list): A list to record the wait times of customers.\n",
    "            arrival_times (list): A list to record the arrival times of customers.\n",
    "            service_times (list): A list to record the service times of customers.\n",
    "\n",
    "        Yields:\n",
    "            simpy.events.Process: The process of the customer being served.\n",
    "        \"\"\"\n",
    "        arrival_time = env.now\n",
    "        arrival_times.append(arrival_time)\n",
    "        with counter.request() as req:\n",
    "            yield req\n",
    "            yield env.timeout(service_time)\n",
    "            service_times.append(service_time)\n",
    "            wait_time = env.now - arrival_time\n",
    "            wait_times.append(wait_time)\n",
    "\n",
    "    def setup(\n",
    "        env: simpy.Environment,\n",
    "        num_counters: int,\n",
    "        arrival_rate: float,\n",
    "        service_rate: float,\n",
    "        wait_times: list,\n",
    "        arrival_times: list,\n",
    "        service_times: list,\n",
    "    ):\n",
    "        \"\"\"\n",
    "        Sets up the simulation environment with a specified number of service counters and customer arrival and service rates.\n",
    "\n",
    "        Args:\n",
    "            env (simpy.Environment): The simulation environment.\n",
    "            num_counters (int): The number of service counters available.\n",
    "            arrival_rate (float): The rate at which customers arrive.\n",
    "            service_rate (float): The rate at which customers are served.\n",
    "            wait_times (list): A list to record the wait times of customers.\n",
    "            arrival_times (list): A list to record the arrival times of customers.\n",
    "            service_times (list): A list to record the service times of customers.\n",
    "\n",
    "        Yields:\n",
    "            simpy.events.Timeout: The timeout event for the next customer arrival.\n",
    "        \"\"\"\n",
    "        counter = simpy.Resource(env, num_counters)\n",
    "        while True:\n",
    "            yield env.timeout(np.random.exponential(1 / arrival_rate))\n",
    "            service_time = np.random.exponential(1 / service_rate)\n",
    "            env.process(\n",
    "                customer(\n",
    "                    env,\n",
    "                    \"Customer\",\n",
    "                    counter,\n",
    "                    service_time,\n",
    "                    wait_times,\n",
    "                    arrival_times,\n",
    "                    service_times,\n",
    "                )\n",
    "            )\n",
    "\n",
    "    while True:\n",
    "        env = simpy.Environment()\n",
    "        wait_times = []\n",
    "        arrival_times = []\n",
    "        service_times = []\n",
    "        env.process(\n",
    "            setup(\n",
    "                env,\n",
    "                num_counters,\n",
    "                arrival_rate,\n",
    "                service_rate,\n",
    "                wait_times,\n",
    "                arrival_times,\n",
    "                service_times,\n",
    "            )\n",
    "        )\n",
    "        env.run(until=simulation_time)\n",
    "\n",
    "        if len(wait_times) == len(arrival_times) == len(service_times):\n",
    "            return wait_times, arrival_times, service_times\n",
    "        \n",
    "wait_times, arrival_times, service_times = simulate_queue_system()"
   ]
  },
  {
   "cell_type": "markdown",
   "metadata": {},
   "source": [
    "## Plot the RVs Distributions"
   ]
  },
  {
   "cell_type": "code",
   "execution_count": null,
   "metadata": {},
   "outputs": [],
   "source": [
    "######################  TODO  ########################\n",
    "# Distribution of Arrival Times\n",
    "######################  TODO  ########################"
   ]
  },
  {
   "cell_type": "code",
   "execution_count": null,
   "metadata": {},
   "outputs": [],
   "source": [
    "######################  TODO  ########################\n",
    "# Distribution of Waiting Times\n",
    "######################  TODO  ########################"
   ]
  },
  {
   "cell_type": "code",
   "execution_count": null,
   "metadata": {},
   "outputs": [],
   "source": [
    "######################  TODO  ########################\n",
    "# Distribution of Service Times\n",
    "######################  TODO  ########################"
   ]
  },
  {
   "cell_type": "markdown",
   "metadata": {},
   "source": [
    "## Plot the Joint Distributions\n",
    "\n",
    "**Note:** Use `sns.jointplot` to plot the joint distributions"
   ]
  },
  {
   "cell_type": "code",
   "execution_count": null,
   "metadata": {},
   "outputs": [],
   "source": [
    "######################  TODO  ########################\n",
    "# Joint Distribution of Arrival and Service Times\n",
    "######################  TODO  ########################"
   ]
  },
  {
   "cell_type": "code",
   "execution_count": null,
   "metadata": {},
   "outputs": [],
   "source": [
    "######################  TODO  ########################\n",
    "# Joint Distribution of Arrival and Service Times\n",
    "######################  TODO  ########################"
   ]
  },
  {
   "cell_type": "markdown",
   "metadata": {},
   "source": [
    "## Analysis of Joint Distributions\n",
    "\n",
    "TODO"
   ]
  },
  {
   "cell_type": "markdown",
   "metadata": {},
   "source": [
    "## Scatter Plot and Correlation"
   ]
  },
  {
   "cell_type": "code",
   "execution_count": null,
   "metadata": {},
   "outputs": [],
   "source": [
    "######################  TODO  ########################\n",
    "# Scatter Plot of Arrival and Service Times\n",
    "######################  TODO  ########################"
   ]
  },
  {
   "cell_type": "markdown",
   "metadata": {},
   "source": [
    "## Calculating `total_times`"
   ]
  },
  {
   "cell_type": "code",
   "execution_count": null,
   "metadata": {},
   "outputs": [],
   "source": [
    "######################  TODO  ########################\n",
    "# Distribution of Total Time Spent in the System\n",
    "######################  TODO  ########################"
   ]
  },
  {
   "cell_type": "markdown",
   "metadata": {},
   "source": [
    "## Conditional Wait Times"
   ]
  },
  {
   "cell_type": "code",
   "execution_count": null,
   "metadata": {},
   "outputs": [],
   "source": [
    "######################  TODO  ########################\n",
    "# Conditional Distribution of Waiting Times (Arrival Time < 50)\n",
    "######################  TODO  ########################"
   ]
  }
 ],
 "metadata": {
  "kernelspec": {
   "display_name": "Python 3",
   "language": "python",
   "name": "python3"
  },
  "language_info": {
   "codemirror_mode": {
    "name": "ipython",
    "version": 3
   },
   "file_extension": ".py",
   "mimetype": "text/x-python",
   "name": "python",
   "nbconvert_exporter": "python",
   "pygments_lexer": "ipython3",
   "version": "3.11.3"
  }
 },
 "nbformat": 4,
 "nbformat_minor": 2
}
