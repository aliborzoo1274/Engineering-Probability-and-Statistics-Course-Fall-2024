{
 "cells": [
  {
   "cell_type": "markdown",
   "metadata": {},
   "source": [
    "# Beta Distribution\n",
    "### CA2 @ EPS Course\n",
    "\n",
    "#### Instructors: Dr. Tavassolipour, Dr. Vahabie\n",
    "\n",
    "---\n",
    "\n",
    "### Instructions:\n",
    "-  Replace the placeholders (between <font color=\"green\">`## TODO ##`</font> and <font color=\"green\">`## TODO ##`</font>) with the appropriate details.\n",
    "- Ensure you run each cell after you've entered your solution.\n",
    "\n",
    "---\n",
    "\n",
    "*Full Name:* ...\n",
    "\n",
    "*SID:* ...\n",
    "\n",
    "The objective of this notebook is to estimate the probability of getting tails in a coin flip using a Bayesian approach.\n",
    "\n"
   ]
  },
  {
   "cell_type": "code",
   "execution_count": 1,
   "metadata": {},
   "outputs": [],
   "source": [
    "import numpy as np\n",
    "import matplotlib.pyplot as plt\n",
    "from typing import Union"
   ]
  },
  {
   "cell_type": "code",
   "execution_count": 2,
   "metadata": {},
   "outputs": [],
   "source": [
    "class BetaDistribution:\n",
    "    \"\"\"\n",
    "    Represents a beta distribution with the given shape parameters.\n",
    "    \"\"\"\n",
    "\n",
    "    def __init__(self, alpha: float, beta: float):\n",
    "        \"\"\"\n",
    "        Args:\n",
    "            alpha (float): The first shape parameter of the beta distribution.\n",
    "            beta (float): The second shape parameter of the beta distribution.\n",
    "        \"\"\"\n",
    "\n",
    "        ######################  TODO  ########################\n",
    "        pass\n",
    "        ######################  TODO  ########################\n",
    "\n",
    "    def pdf(self, x: Union[float, np.ndarray]) -> Union[float, np.ndarray]:\n",
    "        \"\"\"\n",
    "        Calculates the normalized probability density function (PDF) of the beta distribution at the given input value(s).\n",
    "        Args:\n",
    "            x (float or np.ndarray): The input value(s) to evaluate the beta distribution PDF at.\n",
    "        Returns:\n",
    "            pdf (float or np.ndarray): The normalized probability density function evaluated at the input value(s).\n",
    "        \"\"\"\n",
    "        ######################  TODO  ########################\n",
    "        pass\n",
    "        ######################  TODO  ########################\n",
    "\n",
    "    def __unnormalized_pdf(self, x: Union[float, np.ndarray]) -> Union[float, np.ndarray]:\n",
    "        \"\"\"\n",
    "        Calculates the unnormalized probability density function (PDF) of the beta distribution at the given input value(s).\n",
    "\n",
    "        Args:\n",
    "            x (float or np.ndarray): The input value(s) to evaluate the unnormalized beta distribution PDF at.\n",
    "\n",
    "        Returns:\n",
    "            pdf (float or np.ndarray): The unnormalized probability density function evaluated at the input value(s).\n",
    "        \"\"\"\n",
    "        ######################  TODO  ########################\n",
    "        pass\n",
    "        ######################  TODO  ########################\n",
    "\n",
    "    def __calculate_normalization_constant(self):\n",
    "        \"\"\"\n",
    "        Calculates the normalization constant for the beta distribution.\n",
    "        This constant is used to ensure that the total probability under the PDF is 1.\n",
    "        \"\"\"\n",
    "        ######################  TODO  ########################\n",
    "        # Proceed with the numerical approach\n",
    "        pass\n",
    "        ######################  TODO  ########################"
   ]
  },
  {
   "cell_type": "code",
   "execution_count": 23,
   "metadata": {},
   "outputs": [],
   "source": [
    "def plot_beta_dist(beta: BetaDistribution):\n",
    "    \"\"\"\n",
    "    Plots the probability density function of the given beta distribution.\n",
    "\n",
    "    Args:\n",
    "        beta (BetaDistribution): The beta distribution instance to plot.\n",
    "    \"\"\"\n",
    "    ######################  TODO  ########################\n",
    "    # Do not forget to add title, labels, and legend.\n",
    "    pass\n",
    "    ######################  TODO  ########################"
   ]
  },
  {
   "cell_type": "markdown",
   "metadata": {},
   "source": [
    "Read the `coint_flips.txt` file and plot the posterior distributions after every 50 trials for two prior probabilities:\n",
    "1. Uniform distribution \n",
    "2. $Beta (4, 10)$"
   ]
  },
  {
   "cell_type": "code",
   "execution_count": 24,
   "metadata": {},
   "outputs": [],
   "source": [
    "######################  TODO  ########################\n",
    "# Read coin_flips.txt\n",
    "######################  TODO  ########################"
   ]
  },
  {
   "cell_type": "markdown",
   "metadata": {},
   "source": [
    "## Prior: Uniform"
   ]
  },
  {
   "cell_type": "markdown",
   "metadata": {},
   "source": [
    "**Hint:** use `plt.figure(figsize=(25, 20))` and `plt.subplot(4, 5, ...)`"
   ]
  },
  {
   "cell_type": "code",
   "execution_count": null,
   "metadata": {},
   "outputs": [],
   "source": [
    "######################  TODO  ########################\n",
    "######################  TODO  ########################"
   ]
  },
  {
   "cell_type": "markdown",
   "metadata": {},
   "source": [
    "Now calculate the final posterior mean and variance."
   ]
  },
  {
   "cell_type": "code",
   "execution_count": null,
   "metadata": {},
   "outputs": [],
   "source": [
    "######################  TODO  ########################\n",
    "######################  TODO  ########################"
   ]
  },
  {
   "cell_type": "markdown",
   "metadata": {},
   "source": [
    "## Prior: $Beta(4, 10)$"
   ]
  },
  {
   "cell_type": "code",
   "execution_count": null,
   "metadata": {},
   "outputs": [],
   "source": [
    "######################  TODO  ########################\n",
    "######################  TODO  ########################"
   ]
  },
  {
   "cell_type": "markdown",
   "metadata": {},
   "source": [
    "Now calculate the final posterior mean and variance."
   ]
  },
  {
   "cell_type": "code",
   "execution_count": null,
   "metadata": {},
   "outputs": [],
   "source": [
    "######################  TODO  ########################\n",
    "######################  TODO  ########################"
   ]
  }
 ],
 "metadata": {
  "kernelspec": {
   "display_name": "Python 3",
   "language": "python",
   "name": "python3"
  },
  "language_info": {
   "codemirror_mode": {
    "name": "ipython",
    "version": 3
   },
   "file_extension": ".py",
   "mimetype": "text/x-python",
   "name": "python",
   "nbconvert_exporter": "python",
   "pygments_lexer": "ipython3",
   "version": "3.11.3"
  }
 },
 "nbformat": 4,
 "nbformat_minor": 2
}
