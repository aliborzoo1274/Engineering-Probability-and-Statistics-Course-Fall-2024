{
 "cells": [
  {
   "cell_type": "markdown",
   "metadata": {},
   "source": [
    "# Correlation\n",
    "### CA2 @ EPS Course\n",
    "\n",
    "#### Instructors: Dr. Tavassolipour, Dr. Vahabie\n",
    "\n",
    "---\n",
    "\n",
    "### Instructions:\n",
    "-  Replace the placeholders (between <font color=\"green\">`## TODO ##`</font> and <font color=\"green\">`## TODO ##`</font>) with the appropriate details.\n",
    "- Ensure you run each cell after you've entered your solution.\n",
    "\n",
    "---\n",
    "\n",
    "*Full Name:* ...\n",
    "\n",
    "*SID:* ...\n",
    "\n",
    "The objective of this notebook is to understand the concept of correlation.\n"
   ]
  },
  {
   "cell_type": "code",
   "execution_count": 1,
   "metadata": {},
   "outputs": [],
   "source": [
    "import seaborn as sns\n",
    "import matplotlib.pyplot as plt\n",
    "import pandas as pd\n",
    "import numpy as np\n",
    "import warnings\n",
    "\n",
    "warnings.filterwarnings(\"ignore\")"
   ]
  },
  {
   "cell_type": "markdown",
   "metadata": {},
   "source": [
    "## Calculate Correlation\n",
    "complete `correlation` function that calculate the correlation matrix of a data fram.\n",
    "\n",
    "**Note:** you are not allowed to use `pandas.core.frame.DataFrame.corr()` method"
   ]
  },
  {
   "cell_type": "code",
   "execution_count": 2,
   "metadata": {},
   "outputs": [],
   "source": [
    "def correlation(data: pd.DataFrame) -> pd.DataFrame:\n",
    "    \"\"\"\n",
    "    Calculates the correlation matrix from a given dataset.\n",
    "\n",
    "    Args:\n",
    "        data (pandas.core.frame.DataFrame): The dataset, where each row represents an observation and each column represents a feature.\n",
    "\n",
    "    Returns:\n",
    "        correlation_matrix (pandas.core.frame.DataFrame): The correlation matrix.\n",
    "    \"\"\"\n",
    "    ######################  TODO  ########################\n",
    "    ######################  TODO  ########################"
   ]
  },
  {
   "cell_type": "code",
   "execution_count": null,
   "metadata": {},
   "outputs": [],
   "source": [
    "######################  TODO  ########################\n",
    "######################  TODO  ########################"
   ]
  },
  {
   "cell_type": "markdown",
   "metadata": {},
   "source": [
    "### Convert to Datetime and Extract Features"
   ]
  },
  {
   "cell_type": "code",
   "execution_count": 4,
   "metadata": {},
   "outputs": [],
   "source": [
    "######################  TODO  ########################\n",
    "######################  TODO  ########################"
   ]
  },
  {
   "cell_type": "markdown",
   "metadata": {},
   "source": [
    "### Plot Energy Usage Over Years"
   ]
  },
  {
   "cell_type": "code",
   "execution_count": null,
   "metadata": {},
   "outputs": [],
   "source": [
    "######################  TODO  ########################\n",
    "######################  TODO  ########################"
   ]
  },
  {
   "cell_type": "markdown",
   "metadata": {},
   "source": [
    "### Analyze Energy Usage Over Years"
   ]
  },
  {
   "cell_type": "code",
   "execution_count": null,
   "metadata": {},
   "outputs": [],
   "source": [
    "######################  TODO  ########################\n",
    "######################  TODO  ########################"
   ]
  },
  {
   "cell_type": "markdown",
   "metadata": {},
   "source": [
    "### Plot Energy Usage Over Hours"
   ]
  },
  {
   "cell_type": "code",
   "execution_count": null,
   "metadata": {},
   "outputs": [],
   "source": [
    "######################  TODO  ########################\n",
    "######################  TODO  ########################"
   ]
  },
  {
   "cell_type": "markdown",
   "metadata": {},
   "source": [
    "### Plot Energy Usage Over Months"
   ]
  },
  {
   "cell_type": "code",
   "execution_count": null,
   "metadata": {},
   "outputs": [],
   "source": [
    "######################  TODO  ########################\n",
    "######################  TODO  ########################"
   ]
  },
  {
   "cell_type": "markdown",
   "metadata": {},
   "source": [
    "### Calculate Correlation Between Specific Hours and Energy Usage"
   ]
  },
  {
   "cell_type": "code",
   "execution_count": null,
   "metadata": {},
   "outputs": [],
   "source": [
    "######################  TODO  ########################\n",
    "######################  TODO  ########################"
   ]
  },
  {
   "cell_type": "markdown",
   "metadata": {},
   "source": [
    "### Analyze Correlation Between Specific Hours and Energy Usage\n",
    "\n",
    "TODO"
   ]
  },
  {
   "cell_type": "markdown",
   "metadata": {},
   "source": [
    "## Causal Effect"
   ]
  },
  {
   "cell_type": "code",
   "execution_count": null,
   "metadata": {},
   "outputs": [],
   "source": [
    "######################  TODO  ########################\n",
    "######################  TODO  ########################"
   ]
  }
 ],
 "metadata": {
  "kernelspec": {
   "display_name": "Python 3",
   "language": "python",
   "name": "python3"
  },
  "language_info": {
   "codemirror_mode": {
    "name": "ipython",
    "version": 3
   },
   "file_extension": ".py",
   "mimetype": "text/x-python",
   "name": "python",
   "nbconvert_exporter": "python",
   "pygments_lexer": "ipython3",
   "version": "3.11.3"
  }
 },
 "nbformat": 4,
 "nbformat_minor": 2
}
