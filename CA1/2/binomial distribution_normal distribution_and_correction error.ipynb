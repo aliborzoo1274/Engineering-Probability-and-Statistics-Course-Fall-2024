{
 "cells": [
  {
   "cell_type": "markdown",
   "id": "a6910eec-de9c-4a88-9036-2dfd82afadfc",
   "metadata": {},
   "source": [
    "# Second Question: Binomial distribution, normal distribution and correction error"
   ]
  },
  {
   "cell_type": "markdown",
   "id": "a0633fc6-ad4d-4de4-907c-724d086b4271",
   "metadata": {},
   "source": [
    "## Ali Borzoozadeh: 810102410"
   ]
  },
  {
   "cell_type": "code",
   "execution_count": 1,
   "id": "fc138944-8e34-4efe-99cb-cdefc5047c51",
   "metadata": {},
   "outputs": [],
   "source": [
    "# Set the seed\n",
    "set.seed(410)"
   ]
  },
  {
   "cell_type": "code",
   "execution_count": 2,
   "id": "fd5e4d4f-feb1-4ee3-8163-80b7dca54587",
   "metadata": {},
   "outputs": [],
   "source": [
    "# Fix the plots size\n",
    "library(repr)\n",
    "options(repr.plot.width = 13, repr.plot.height = 13)"
   ]
  },
  {
   "cell_type": "markdown",
   "id": "aad27333-a336-4aea-8605-4a0195f3f3fb",
   "metadata": {},
   "source": [
    "### 1."
   ]
  },
  {
   "cell_type": "markdown",
   "id": "8d556f1a-44c7-47eb-a92b-074d315ceb25",
   "metadata": {},
   "source": [
    "#### Binomial distribution PMF function:"
   ]
  },
  {
   "cell_type": "code",
   "execution_count": 3,
   "id": "035e8a7f-0cad-4b84-8dd8-d435692c6eeb",
   "metadata": {},
   "outputs": [],
   "source": [
    "binomial_pmf <- function(n, p, x)\n",
    "{\n",
    "  if (x < 0 || x > n)\n",
    "  {\n",
    "    return(0)\n",
    "  }\n",
    "  return(choose(n, x) * (p ^ x) * ((1 - p) ^ (n - x)))\n",
    "}"
   ]
  },
  {
   "cell_type": "markdown",
   "id": "6ba722c0-824f-41a6-be25-84e3f249e2bd",
   "metadata": {},
   "source": [
    "#### Binomial distribution CDF function:"
   ]
  },
  {
   "cell_type": "code",
   "execution_count": 4,
   "id": "0198663c-9afc-4f5a-a387-1487841c9f49",
   "metadata": {},
   "outputs": [],
   "source": [
    "binomial_cdf <- function(n, p, x)\n",
    "{\n",
    "  if (x < 0)\n",
    "  {\n",
    "    return(0)\n",
    "  }\n",
    "  if (x >= n)\n",
    "  {\n",
    "    return(1)\n",
    "  }\n",
    "  cdf_value <- 0\n",
    "  for (i in 0:x)\n",
    "  {\n",
    "    cdf_value <- cdf_value + binomial_pmf(n, p, i)\n",
    "  }\n",
    "  return(cdf_value)\n",
    "}"
   ]
  },
  {
   "cell_type": "markdown",
   "id": "b6ad8df5-65e2-414d-b312-0f118ae3be90",
   "metadata": {},
   "source": [
    "#### Calculate the requested probability:"
   ]
  },
  {
   "cell_type": "code",
   "execution_count": 5,
   "id": "f0660440-4d5c-4218-b6c9-1ccb2d63c48f",
   "metadata": {},
   "outputs": [
    {
     "data": {
      "text/html": [
       "0.107463797278376"
      ],
      "text/latex": [
       "0.107463797278376"
      ],
      "text/markdown": [
       "0.107463797278376"
      ],
      "text/plain": [
       "[1] 0.1074638"
      ]
     },
     "metadata": {},
     "output_type": "display_data"
    }
   ],
   "source": [
    "n <- 1000\n",
    "p <- 0.45\n",
    "x <- 430\n",
    "\n",
    "binomial_cdf_result <- binomial_cdf(n, p, x)\n",
    "binomial_cdf_result"
   ]
  },
  {
   "cell_type": "markdown",
   "id": "72336d9b-818c-4345-9195-7edc43a56c95",
   "metadata": {},
   "source": [
    "### 2."
   ]
  },
  {
   "cell_type": "markdown",
   "id": "375dc843-8a58-4557-a91e-9f3276af552a",
   "metadata": {},
   "source": [
    "#### Approximation with normal distribution (without applying continuity correction):"
   ]
  },
  {
   "cell_type": "code",
   "execution_count": 6,
   "id": "1e47b5bf-5ad6-4ead-b930-6ce3bbd6c5ba",
   "metadata": {},
   "outputs": [
    {
     "data": {
      "text/html": [
       "0.101813913546803"
      ],
      "text/latex": [
       "0.101813913546803"
      ],
      "text/markdown": [
       "0.101813913546803"
      ],
      "text/plain": [
       "[1] 0.1018139"
      ]
     },
     "metadata": {},
     "output_type": "display_data"
    }
   ],
   "source": [
    "mean <- n * p  # Mean of the distribution\n",
    "sd <- sqrt(n * p * (1 - p))  # Standard deviation of the distribution\n",
    "\n",
    "normal_cdf_result <- pnorm(x, mean = mean, sd = sd)\n",
    "normal_cdf_result"
   ]
  },
  {
   "cell_type": "markdown",
   "id": "b9eecb11-014d-40e9-884b-409b3fb0a163",
   "metadata": {},
   "source": [
    "#### Error value compared to the previous part:"
   ]
  },
  {
   "cell_type": "code",
   "execution_count": 7,
   "id": "7b79b79f-2a3b-4051-9dfc-f2aab3f9d2fd",
   "metadata": {},
   "outputs": [
    {
     "data": {
      "text/html": [
       "0.00564988373157276"
      ],
      "text/latex": [
       "0.00564988373157276"
      ],
      "text/markdown": [
       "0.00564988373157276"
      ],
      "text/plain": [
       "[1] 0.005649884"
      ]
     },
     "metadata": {},
     "output_type": "display_data"
    }
   ],
   "source": [
    "difference_1 <- binomial_cdf_result - normal_cdf_result\n",
    "difference_1"
   ]
  },
  {
   "cell_type": "markdown",
   "id": "8388286f-989e-46f4-82de-6e72d9c13ed2",
   "metadata": {},
   "source": [
    "### 3."
   ]
  },
  {
   "cell_type": "markdown",
   "id": "210e9ab9-526c-4f78-aa62-69065d664988",
   "metadata": {},
   "source": [
    "#### Approximation with normal distribution (with continuity correction applied):"
   ]
  },
  {
   "cell_type": "code",
   "execution_count": 8,
   "id": "1f8a89e9-ffa4-425f-ae9c-bf8d6566fe6b",
   "metadata": {},
   "outputs": [
    {
     "data": {
      "text/html": [
       "0.107579941598096"
      ],
      "text/latex": [
       "0.107579941598096"
      ],
      "text/markdown": [
       "0.107579941598096"
      ],
      "text/plain": [
       "[1] 0.1075799"
      ]
     },
     "metadata": {},
     "output_type": "display_data"
    }
   ],
   "source": [
    "x_corrected <- x + 0.5\n",
    "\n",
    "normal_cdf_continuity_result <- pnorm(x_corrected, mean = mean, sd = sd)\n",
    "normal_cdf_continuity_result"
   ]
  },
  {
   "cell_type": "markdown",
   "id": "821a96e8-053e-41a9-b306-ee5ec356125e",
   "metadata": {},
   "source": [
    "#### Error value compared to the direct calculation:"
   ]
  },
  {
   "cell_type": "code",
   "execution_count": 9,
   "id": "3e2244b2-e847-4289-9fbe-8f94b75f0364",
   "metadata": {},
   "outputs": [
    {
     "data": {
      "text/html": [
       "-0.000116144319720096"
      ],
      "text/latex": [
       "-0.000116144319720096"
      ],
      "text/markdown": [
       "-0.000116144319720096"
      ],
      "text/plain": [
       "[1] -0.0001161443"
      ]
     },
     "metadata": {},
     "output_type": "display_data"
    }
   ],
   "source": [
    "difference_2 <- binomial_cdf_result - normal_cdf_continuity_result\n",
    "difference_2"
   ]
  },
  {
   "cell_type": "markdown",
   "id": "7c3a9378-f4f4-413b-af66-4ffaebde0212",
   "metadata": {},
   "source": [
    "### 4."
   ]
  },
  {
   "cell_type": "markdown",
   "id": "415d8e95-e02d-49b4-8db9-2412cfa0424b",
   "metadata": {},
   "source": [
    "#### Calculate CDF values for each method:"
   ]
  },
  {
   "cell_type": "code",
   "execution_count": 10,
   "id": "90350ff7-1ce0-4416-b260-c415d3e18d67",
   "metadata": {},
   "outputs": [],
   "source": [
    "x_values <- 0:1000\n",
    "\n",
    "binomial_cdf_values <- sapply(x_values, function(x) binomial_cdf(n, p, x))\n",
    "normal_cdf_values <- sapply(x_values, function(x) pnorm(x, mean = mean, sd = sd))\n",
    "normal_cdf_continuity_values <- sapply(x_values, function(x) pnorm(x + 0.5, mean = mean, sd = sd))"
   ]
  },
  {
   "cell_type": "markdown",
   "id": "272da74f-c6f8-4a27-a8d1-917e0b122681",
   "metadata": {},
   "source": [
    "#### Calculate differences:"
   ]
  },
  {
   "cell_type": "code",
   "execution_count": 11,
   "id": "620e7c66-759f-4eee-8f28-17c6c71aac7e",
   "metadata": {},
   "outputs": [],
   "source": [
    "diff_direct_normal <- binomial_cdf_values - normal_cdf_values\n",
    "diff_direct_continuity <- binomial_cdf_values - normal_cdf_continuity_values"
   ]
  },
  {
   "cell_type": "markdown",
   "id": "35d61c8b-7719-496d-9302-4a5ca1daa910",
   "metadata": {},
   "source": [
    "#### Plot the differences:"
   ]
  },
  {
   "cell_type": "code",
   "execution_count": 12,
   "id": "b5eaad77-8c20-48f4-8019-2a619712d05f",
   "metadata": {},
   "outputs": [
    {
     "data": {
      "image/png": "[encoded data removed]",
      "text/plain": [
       "Plot with title \"Differences Between Binomial CDF Calculation Methods\""
      ]
     },
     "metadata": {
      "image/png": {
       "height": 780,
       "width": 780
      }
     },
     "output_type": "display_data"
    }
   ],
   "source": [
    "plot(x_values, diff_direct_normal, type = \"l\", col = \"blue\",\n",
    "     xlab = \"x\", ylab = \"Difference\",\n",
    "     main = \"Differences Between Binomial CDF Calculation Methods\")\n",
    "lines(x_values, diff_direct_continuity, type = \"l\", col = \"red\")\n",
    "legend(\"topright\", legend = c(\"Direct - Normal\", \"Direct - Normal with Continuity\"),\n",
    "       col = c(\"blue\", \"red\"), lty = 1)"
   ]
  },
  {
   "cell_type": "markdown",
   "id": "d9e68a30-bc3b-45bb-b51b-f02f3d881b40",
   "metadata": {},
   "source": [
    "As can be seen, the error amount is much smaller with the continuity correction applied, and without the continuity correction applied, the difference amount obtained is always greater than the original value, while with the continuity correction applied, the approximated value is less than the original value in some values."
   ]
  },
  {
   "cell_type": "markdown",
   "id": "90cae6c7-432e-4685-883d-fd20e5f3f42f",
   "metadata": {},
   "source": [
    "### 5."
   ]
  },
  {
   "cell_type": "markdown",
   "id": "85662563-b883-4871-a740-83ae8943d1d1",
   "metadata": {},
   "source": [
    "#### Calculate CDF values for each method:"
   ]
  },
  {
   "cell_type": "code",
   "execution_count": 13,
   "id": "bc072c49-350c-404f-ab6f-f72ccf9edfd3",
   "metadata": {},
   "outputs": [],
   "source": [
    "x_values <- 440:460\n",
    "\n",
    "binomial_cdf_values <- sapply(x_values, function(x) binomial_cdf(n, p, x))\n",
    "normal_cdf_values <- sapply(x_values, function(x) pnorm(x, mean = mean, sd = sd))\n",
    "normal_cdf_continuity_values <- sapply(x_values, function(x) pnorm(x + 0.5, mean = mean, sd = sd))"
   ]
  },
  {
   "cell_type": "markdown",
   "id": "fd9a0cd3-052d-494b-860a-c6068eade37a",
   "metadata": {},
   "source": [
    "#### Plot the values:"
   ]
  },
  {
   "cell_type": "code",
   "execution_count": 14,
   "id": "40a77e0b-81f9-4cd4-adfd-8145349ad012",
   "metadata": {},
   "outputs": [
    {
     "data": {
      "image/png": "[encoded data removed]",
      "text/plain": [
       "Plot with title \"Comparison between Binomial CDF Calculation Methods\""
      ]
     },
     "metadata": {
      "image/png": {
       "height": 780,
       "width": 780
      }
     },
     "output_type": "display_data"
    }
   ],
   "source": [
    "plot(x_values, binomial_cdf_values, type = \"l\", col = \"black\",\n",
    "     xlab = \"x\", ylab = \"Values\",\n",
    "     main = \"Comparison between Binomial CDF Calculation Methods\")\n",
    "lines(x_values, normal_cdf_values, type = \"l\", col = \"blue\")\n",
    "lines(x_values, normal_cdf_continuity_values, type = \"l\", col = \"red\")\n",
    "legend(\"topright\", legend = c(\"Direct\", \"Noraml\", \"Normal with Continuity\"),\n",
    "       col = c(\"black\", \"blue\", \"red\"), lty = 1)"
   ]
  },
  {
   "cell_type": "markdown",
   "id": "1e0917ff-37ac-4dac-9c2e-6d8d90e68da9",
   "metadata": {},
   "source": [
    "The error amount is much smaller with continuity correction applied and the two graphs are almost on top of each other."
   ]
  },
  {
   "cell_type": "markdown",
   "id": "77932b02-13fe-4126-be58-eb391f725256",
   "metadata": {},
   "source": [
    "### 6."
   ]
  },
  {
   "cell_type": "markdown",
   "id": "998afdc7-cc7b-4244-a00a-d58a135101fb",
   "metadata": {},
   "source": [
    "#### Calculate CDF times for both methods:"
   ]
  },
  {
   "cell_type": "code",
   "execution_count": 15,
   "id": "0e3b29ef-9c97-4183-835a-864db0b5ef30",
   "metadata": {},
   "outputs": [],
   "source": [
    "library(microbenchmark)\n",
    "\n",
    "x_values <- 0:1000\n",
    "binomial_times <- numeric(length(x_values))\n",
    "normal_times <- numeric(length(x_values))\n",
    "\n",
    "for (i in seq_along(x_values))\n",
    "{\n",
    "  x <- x_values[i]\n",
    "  \n",
    "  binomial_time <- microbenchmark(\n",
    "    binomial_cdf = binomial_cdf(n, p, x),\n",
    "    times = 10L\n",
    "  )\n",
    "  binomial_times[i] <- median(binomial_time$time) / 1e9\n",
    "  \n",
    "  normal_time <- microbenchmark(\n",
    "    normal_cdf = pnorm(x + 0.5, mean = mean, sd = sd),\n",
    "    times = 10L\n",
    "  )\n",
    "  normal_times[i] <- median(normal_time$time) / 1e9\n",
    "}"
   ]
  },
  {
   "cell_type": "markdown",
   "id": "8db7a474-f007-40d1-9174-cb6a87598cb9",
   "metadata": {},
   "source": [
    "#### Plot the computational time for both methods:"
   ]
  },
  {
   "cell_type": "code",
   "execution_count": 16,
   "id": "2e583818-5391-49e0-8581-178e5208838e",
   "metadata": {},
   "outputs": [
    {
     "data": {
      "image/png": "[encoded data removed]",
      "text/plain": [
       "Plot with title \"Computational Time for CDF Calculation Methods\""
      ]
     },
     "metadata": {
      "image/png": {
       "height": 780,
       "width": 780
      }
     },
     "output_type": "display_data"
    }
   ],
   "source": [
    "plot(x_values, binomial_times, type = \"l\", col = \"blue\",\n",
    "     xlab = \"x\", ylab = \"Time (seconds)\",\n",
    "     main = \"Computational Time for CDF Calculation Methods\",\n",
    "     ylim = c(0, max(binomial_times, normal_times)))\n",
    "lines(x_values, normal_times, type = \"l\", col = \"red\")\n",
    "legend(\"topright\", legend = c(\"Binomial CDF\", \"Normal CDF with Continuity\"),\n",
    "       col = c(\"blue\", \"red\"), lty = 1)"
   ]
  },
  {
   "cell_type": "markdown",
   "id": "9052a1cf-bd75-4d89-9c96-9648fbea480b",
   "metadata": {},
   "source": [
    "The time to calculate the CDF with the normal approximation is very small and close to zero, while this is not the case with direct calculation."
   ]
  },
  {
   "cell_type": "markdown",
   "id": "8ad0a55c-25b4-49cb-8426-035bd87f6747",
   "metadata": {},
   "source": [
    "### 7."
   ]
  },
  {
   "cell_type": "markdown",
   "id": "6e080104-3ad6-4fc1-ba56-b0b96a4abfcb",
   "metadata": {},
   "source": [
    "#### Calculate CDF times for both methods in range 400:600 :"
   ]
  },
  {
   "cell_type": "code",
   "execution_count": 17,
   "id": "e0261ca7-dd52-40ec-ad3b-73bc0318c860",
   "metadata": {},
   "outputs": [],
   "source": [
    "x_values <- 400:600\n",
    "\n",
    "binomial_times <- numeric(length(x_values))\n",
    "normal_times <- numeric(length(x_values))\n",
    "\n",
    "for (i in seq_along(x_values))\n",
    "{\n",
    "  x <- x_values[i]\n",
    "  \n",
    "  binomial_time <- microbenchmark(\n",
    "    binomial_cdf = binomial_cdf(n, p, x),\n",
    "    times = 10L\n",
    "  )\n",
    "  binomial_times[i] <- median(binomial_time$time) / 1e9\n",
    "  \n",
    "  normal_time <- microbenchmark(\n",
    "    normal_cdf = pnorm(x + 0.5, mean = mean, sd = sd),\n",
    "    times = 10L\n",
    "  )\n",
    "  normal_times[i] <- median(normal_time$time) / 1e9\n",
    "}"
   ]
  },
  {
   "cell_type": "markdown",
   "id": "8017ce41-7925-4c9b-98bd-ece3c76920a6",
   "metadata": {},
   "source": [
    "#### Calculate CDF values for both methods in range 400:600 :"
   ]
  },
  {
   "cell_type": "code",
   "execution_count": 18,
   "id": "14ce7995-7b72-40ce-9477-ad80b9a09905",
   "metadata": {},
   "outputs": [],
   "source": [
    "binomial_values <- sapply(x_values, function(x) binomial_cdf(n, p, x))\n",
    "normal_values <- sapply(x_values, function(x) pnorm(x + 0.5, mean = mean, sd = sd))"
   ]
  },
  {
   "cell_type": "markdown",
   "id": "3e985338-63fb-4e53-9708-2cb6e2bff43e",
   "metadata": {},
   "source": [
    "#### Calculate differences:"
   ]
  },
  {
   "cell_type": "code",
   "execution_count": 19,
   "id": "c57c2fc2-2a8c-440f-b27d-3767faba947a",
   "metadata": {},
   "outputs": [],
   "source": [
    "diff_direct_normal_times <- binomial_times - normal_times\n",
    "diff_direct_normal_values <- binomial_values - normal_values"
   ]
  },
  {
   "cell_type": "markdown",
   "id": "7eaec626-e01a-4dd3-abc2-bbd55240d9cd",
   "metadata": {},
   "source": [
    "#### Plot the differences of time and value:"
   ]
  },
  {
   "cell_type": "code",
   "execution_count": 20,
   "id": "906e881f-ac8c-4d32-9a56-073144833fe1",
   "metadata": {},
   "outputs": [
    {
     "data": {
      "image/png": "[encoded data removed]",
      "text/plain": [
       "Plot with title \"Value Differences Between Binomial CDF Calculation Methods\""
      ]
     },
     "metadata": {
      "image/png": {
       "height": 780,
       "width": 780
      }
     },
     "output_type": "display_data"
    }
   ],
   "source": [
    "par(mfrow = c(2, 1))\n",
    "\n",
    "# time\n",
    "plot(x_values, diff_direct_normal_times, type = \"l\", col = \"blue\",\n",
    "     xlab = \"x\", ylab = \"Time difference (seconds)\",\n",
    "     main = \"Computational Time Differences Between Binomial CDF Calculation Methods\",\n",
    "     ylim = c(0, max(binomial_times, normal_times)))\n",
    "\n",
    "# value\n",
    "plot(x_values, diff_direct_normal_values, type = \"l\", col = \"red\",\n",
    "     xlab = \"x\", ylab = \"Value difference\",\n",
    "     main = \"Value Differences Between Binomial CDF Calculation Methods\")\n",
    "\n",
    "par(mfrow = c(1, 1))"
   ]
  },
  {
   "cell_type": "markdown",
   "id": "4ba15fb6-bd3c-4bfd-bec6-833540871af9",
   "metadata": {},
   "source": [
    "#### The first x whose CDF is not cost-effective to calculate using the binomial distribution:"
   ]
  },
  {
   "cell_type": "code",
   "execution_count": 21,
   "id": "6732e7d3-23d0-41f5-b377-d979ed94b70e",
   "metadata": {},
   "outputs": [
    {
     "data": {
      "text/html": [
       "523"
      ],
      "text/latex": [
       "523"
      ],
      "text/markdown": [
       "523"
      ],
      "text/plain": [
       "[1] 523"
      ]
     },
     "metadata": {},
     "output_type": "display_data"
    }
   ],
   "source": [
    "for (i in seq_along(x_values))\n",
    "{\n",
    "    if (abs(diff_direct_normal_values[i]) * 1000000 < diff_direct_normal_times[i] * 100)\n",
    "    {\n",
    "        first_x <- x_values[i]\n",
    "        break\n",
    "    }\n",
    "}\n",
    "first_x"
   ]
  },
  {
   "cell_type": "markdown",
   "id": "38c90162-2405-40b9-990c-8ddf54a986ca",
   "metadata": {},
   "source": [
    "### 8."
   ]
  },
  {
   "cell_type": "markdown",
   "id": "eb3268ab-3588-4664-b947-ae2c88647aa7",
   "metadata": {},
   "source": [
    "#### The difference between the cost of increased computation and the cost of computational errors:"
   ]
  },
  {
   "cell_type": "code",
   "execution_count": 22,
   "id": "e0da6f5d-1490-4e07-8fba-0d52c112b87a",
   "metadata": {},
   "outputs": [],
   "source": [
    "cost <- abs(diff_direct_normal_values) * 1000000 - abs(diff_direct_normal_times) * 100"
   ]
  },
  {
   "cell_type": "markdown",
   "id": "1174cf44-40e2-4b5e-ba12-7fa8988a5d42",
   "metadata": {},
   "source": [
    "#### Plot the difference:"
   ]
  },
  {
   "cell_type": "code",
   "execution_count": 23,
   "id": "47dc51ac-5efa-442e-ae6b-d84beb3be683",
   "metadata": {},
   "outputs": [
    {
     "data": {
      "image/png": "[encoded data removed]",
      "text/plain": [
       "Plot with title \"Cost Difference\""
      ]
     },
     "metadata": {
      "image/png": {
       "height": 780,
       "width": 780
      }
     },
     "output_type": "display_data"
    }
   ],
   "source": [
    "plot(x_values, cost, type = \"l\", col = \"blue\",\n",
    "     xlab = \"x\", ylab = \"Difference\",\n",
    "     main = \"Cost Difference\")"
   ]
  },
  {
   "cell_type": "markdown",
   "id": "6f18104e-e21b-4b1a-8a33-0031833027a9",
   "metadata": {},
   "source": [
    "Wherever the value of the graph is positive, it is more optimal to use the direct binomial method, and wherever the value of the graph is negative, it is better to use the normal approximation."
   ]
  },
  {
   "cell_type": "markdown",
   "id": "6416f148-6f07-42c4-bcfb-e6ccef32d8fe",
   "metadata": {},
   "source": [
    "#### Value of the graph for X = 430:"
   ]
  },
  {
   "cell_type": "code",
   "execution_count": 24,
   "id": "8141ed0b-fdd9-446e-a771-4d4ab8cf01b6",
   "metadata": {},
   "outputs": [
    {
     "data": {
      "text/html": [
       "139.888446763569"
      ],
      "text/latex": [
       "139.888446763569"
      ],
      "text/markdown": [
       "139.888446763569"
      ],
      "text/plain": [
       "[1] 139.8884"
      ]
     },
     "metadata": {},
     "output_type": "display_data"
    }
   ],
   "source": [
    "cost[430 - 400]"
   ]
  },
  {
   "cell_type": "markdown",
   "id": "f808dd0d-bc0f-4805-b068-314d9d59f6a1",
   "metadata": {},
   "source": [
    "The value is positive. Hence it is better to calculate the CDF using the direct binomial method."
   ]
  }
 ],
 "metadata": {
  "kernelspec": {
   "display_name": "R",
   "language": "R",
   "name": "ir"
  },
  "language_info": {
   "codemirror_mode": "r",
   "file_extension": ".r",
   "mimetype": "text/x-r-source",
   "name": "R",
   "pygments_lexer": "r",
   "version": "4.1.3"
  }
 },
 "nbformat": 4,
 "nbformat_minor": 5
}
